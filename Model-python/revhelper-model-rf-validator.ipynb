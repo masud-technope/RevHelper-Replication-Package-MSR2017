{
 "cells": [
  {
   "cell_type": "markdown",
   "id": "bc769ea2",
   "metadata": {},
   "source": [
    "# Loading libraries"
   ]
  },
  {
   "cell_type": "code",
   "execution_count": 1,
   "id": "1b3b88e5",
   "metadata": {},
   "outputs": [],
   "source": [
    "import pandas as pd\n",
    "from sklearn.model_selection import train_test_split\n",
    "from sklearn.ensemble import RandomForestClassifier\n",
    "from sklearn.metrics import accuracy_score, confusion_matrix, precision_score, recall_score, f1_score\n",
    "import matplotlib.pyplot as plt\n",
    "from sklearn.model_selection import cross_val_score"
   ]
  },
  {
   "cell_type": "code",
   "execution_count": 2,
   "id": "6dcba207",
   "metadata": {},
   "outputs": [],
   "source": [
    "train_file_path=\"../evaluation/modeldata-training-and-testing.csv\"\n",
    "test_file_path=\"../validation/model-validation-data.csv\""
   ]
  },
  {
   "cell_type": "code",
   "execution_count": 3,
   "id": "8789ab9b",
   "metadata": {},
   "outputs": [],
   "source": [
    "training_data = pd.read_csv(train_file_path, sep=\",\", header=0)\n",
    "testing_data = pd.read_csv(test_file_path, sep=\",\", header=0)"
   ]
  },
  {
   "cell_type": "code",
   "execution_count": 4,
   "id": "dc09646a",
   "metadata": {},
   "outputs": [],
   "source": [
    "def clear_na_data(data):\n",
    "    # Remove rows with NaN values\n",
    "    data = data.dropna()\n",
    "    return data"
   ]
  },
  {
   "cell_type": "code",
   "execution_count": 5,
   "id": "65b75d6f",
   "metadata": {},
   "outputs": [],
   "source": [
    "training_data=clear_na_data(training_data)\n",
    "testing_data=clear_na_data(testing_data)"
   ]
  },
  {
   "cell_type": "code",
   "execution_count": 11,
   "id": "d8b56092",
   "metadata": {},
   "outputs": [],
   "source": [
    "def get_suffled_data(data):\n",
    "    # Shuffle the data\n",
    "    data = data.sample(frac=1, random_state=42).reset_index(drop=True)\n",
    "    return data "
   ]
  },
  {
   "cell_type": "code",
   "execution_count": 14,
   "id": "e0eda490",
   "metadata": {},
   "outputs": [],
   "source": [
    "training_data=get_suffled_data(training_data)\n",
    "testing_data=get_suffled_data(testing_data)"
   ]
  },
  {
   "cell_type": "code",
   "execution_count": 15,
   "id": "89dbdf83",
   "metadata": {},
   "outputs": [
    {
     "data": {
      "text/plain": [
       "((1085, 16), (356, 16))"
      ]
     },
     "execution_count": 15,
     "metadata": {},
     "output_type": "execute_result"
    }
   ],
   "source": [
    "training_data.shape, testing_data.shape"
   ]
  },
  {
   "cell_type": "code",
   "execution_count": 24,
   "id": "f6bfad8e",
   "metadata": {},
   "outputs": [],
   "source": [
    "def get_combined_features(data_frame):\n",
    "    # Select both textual and developer experience features\n",
    "    combined_features = data_frame[['ConceptualSimilarity', 'ReviewedCommitsFile', 'AuthorCommitsFile', 'ExtLibSimilarity','TotalReviewedCommits', 'ReviewedPRs','StopwordRatio']]\n",
    "    return combined_features "
   ]
  },
  {
   "cell_type": "code",
   "execution_count": 25,
   "id": "e11bcf67",
   "metadata": {},
   "outputs": [],
   "source": [
    "def get_all_features(data_frame):\n",
    "    # Select all features\n",
    "    all_features = data_frame.drop(columns=['className'])\n",
    "    return all_features"
   ]
  },
  {
   "cell_type": "code",
   "execution_count": 26,
   "id": "7ca7d6e0",
   "metadata": {},
   "outputs": [],
   "source": [
    "X_train=get_all_features(training_data)\n",
    "X_test=get_all_features(testing_data)\n",
    "y_train=training_data[\"className\"]\n",
    "y_test=testing_data[\"className\"]"
   ]
  },
  {
   "cell_type": "code",
   "execution_count": 27,
   "id": "7943d13f",
   "metadata": {},
   "outputs": [],
   "source": [
    "def get_trained_model():\n",
    "    model_rf_comined = RandomForestClassifier(n_estimators=2000, random_state=42)\n",
    "    model_rf_comined.fit(X_train, y_train)\n",
    "    return model_rf_comined"
   ]
  },
  {
   "cell_type": "code",
   "execution_count": 28,
   "id": "58d815f0",
   "metadata": {},
   "outputs": [],
   "source": [
    "model_rf_combined = get_trained_model()"
   ]
  },
  {
   "cell_type": "code",
   "execution_count": 31,
   "id": "85f52817",
   "metadata": {},
   "outputs": [],
   "source": [
    "def evaluate_rf_model(model_rf_combined, X_test, y_test):\n",
    "    y_pred = model_rf_combined.predict(X_test)\n",
    "    accuracy = accuracy_score(y_test, y_pred)\n",
    "    precision = precision_score(y_test, y_pred, average='weighted')\n",
    "    recall = recall_score(y_test, y_pred, average='weighted')\n",
    "    f1 = f1_score(y_test, y_pred, average='weighted')\n",
    "    conf_matrix = confusion_matrix(y_test, y_pred)\n",
    "\n",
    "    print(\"Accuracy:\", accuracy)\n",
    "    print(\"Precision:\", precision)\n",
    "    print(\"Recall:\", recall)\n",
    "    print(\"F1 Score:\", f1)\n",
    "    print(\"Confusion Matrix:\\n\", conf_matrix)"
   ]
  },
  {
   "cell_type": "code",
   "execution_count": 32,
   "id": "743f0d55",
   "metadata": {},
   "outputs": [
    {
     "name": "stdout",
     "output_type": "stream",
     "text": [
      "Accuracy: 0.6376404494382022\n",
      "Precision: 0.6252577536506334\n",
      "Recall: 0.6376404494382022\n",
      "F1 Score: 0.6309062592818796\n",
      "Confusion Matrix:\n",
      " [[ 30  70]\n",
      " [ 59 197]]\n"
     ]
    }
   ],
   "source": [
    "evaluate_rf_model(model_rf_combined, X_test, y_test)"
   ]
  },
  {
   "cell_type": "markdown",
   "id": "f96522ed",
   "metadata": {},
   "source": [
    "# Visualize Feature Importance"
   ]
  },
  {
   "cell_type": "code",
   "execution_count": 33,
   "id": "490e1d63",
   "metadata": {},
   "outputs": [],
   "source": [
    "def show_model_feature_importances(model, feature_names):\n",
    "    # Get feature importances\n",
    "    importances = model.feature_importances_\n",
    "    indices = importances.argsort()[::-1]\n",
    "\n",
    "    # Print the feature ranking\n",
    "    print(\"Feature ranking:\")\n",
    "    for f in range(len(feature_names)):\n",
    "        print(f\"{f + 1}. {feature_names[indices[f]]} ({importances[indices[f]]})\")\n",
    "\n",
    "    # Plot the feature importances of the forest\n",
    "    plt.figure(figsize=(5, 4))\n",
    "    plt.title(\"Feature importances\")\n",
    "    plt.bar(range(len(feature_names)), importances[indices], align=\"center\")\n",
    "    plt.xticks(range(len(feature_names)), [feature_names[i] for i in indices], rotation=90)\n",
    "    plt.xlim([-1, len(feature_names)])\n",
    "    plt.show()"
   ]
  },
  {
   "cell_type": "code",
   "execution_count": 34,
   "id": "a7cb276f",
   "metadata": {},
   "outputs": [
    {
     "name": "stdout",
     "output_type": "stream",
     "text": [
      "Feature ranking:\n",
      "1. ConceptualSimilarity (0.11462408572379232)\n",
      "2. CodeElementRatio (0.09273569339451286)\n",
      "3. TotalReviewedCommits (0.09270065930690057)\n",
      "4. ReviewedPRs (0.08907095699077114)\n",
      "5. ReviewedCommitsFile (0.08811742448679884)\n",
      "6. StopwordRatio (0.08262416645305129)\n",
      "7. StopKeyRatio (0.08139309324293084)\n",
      "8. ReadingEase (0.07890252815526744)\n",
      "9. TotalAuthoredCommits (0.07441776567577844)\n",
      "10. ReadingEase(NL) (0.0646501827750803)\n",
      "11. ExtLibSimilarity (0.051780141031873304)\n",
      "12. AuthorCommitsFile (0.043771523729034305)\n",
      "13. QuestionRatio (0.025308289409854853)\n",
      "14. CommittedTwice (0.012328420874766408)\n",
      "15. ReviewingTwice (0.007575068749587229)\n"
     ]
    },
    {
     "data": {
      "image/png": "[encoded data removed]",
      "text/plain": [
       "<Figure size 500x400 with 1 Axes>"
      ]
     },
     "metadata": {},
     "output_type": "display_data"
    }
   ],
   "source": [
    "show_model_feature_importances(model_rf_combined, X_train.columns)"
   ]
  }
 ],
 "metadata": {
  "kernelspec": {
   "display_name": "base",
   "language": "python",
   "name": "python3"
  },
  "language_info": {
   "codemirror_mode": {
    "name": "ipython",
    "version": 3
   },
   "file_extension": ".py",
   "mimetype": "text/x-python",
   "name": "python",
   "nbconvert_exporter": "python",
   "pygments_lexer": "ipython3",
   "version": "3.12.4"
  }
 },
 "nbformat": 4,
 "nbformat_minor": 5
}
