{
 "cells": [
  {
   "cell_type": "markdown",
   "id": "f7d71957",
   "metadata": {},
   "source": [
    "# Loading the Libraries"
   ]
  },
  {
   "cell_type": "code",
   "execution_count": 5,
   "id": "83bbf57d",
   "metadata": {},
   "outputs": [],
   "source": [
    "import pandas as pd\n",
    "from sklearn.model_selection import train_test_split\n",
    "from sklearn.ensemble import RandomForestClassifier\n",
    "from sklearn.metrics import accuracy_score, confusion_matrix, precision_score, recall_score, f1_score\n",
    "import matplotlib.pyplot as plt"
   ]
  },
  {
   "cell_type": "code",
   "execution_count": 9,
   "id": "655d5c4d",
   "metadata": {},
   "outputs": [],
   "source": [
    "train_test_file_path=\"../evaluation/modeldata-training-and-testing.csv\""
   ]
  },
  {
   "cell_type": "code",
   "execution_count": 13,
   "id": "6bde41f3",
   "metadata": {},
   "outputs": [],
   "source": [
    "all_data = pd.read_csv(train_test_file_path, sep=\",\", header=0)"
   ]
  },
  {
   "cell_type": "code",
   "execution_count": 18,
   "id": "2f214a23",
   "metadata": {},
   "outputs": [],
   "source": [
    "all_data.head(5);"
   ]
  },
  {
   "cell_type": "code",
   "execution_count": 15,
   "id": "286b56b4",
   "metadata": {},
   "outputs": [],
   "source": [
    "def clear_na_data(data):\n",
    "    # Remove rows with NaN values\n",
    "    data = data.dropna()\n",
    "    return data"
   ]
  },
  {
   "cell_type": "code",
   "execution_count": 16,
   "id": "a7671903",
   "metadata": {},
   "outputs": [],
   "source": [
    "cleaned_data=clear_na_data(all_data)"
   ]
  },
  {
   "cell_type": "code",
   "execution_count": 19,
   "id": "36703dc3",
   "metadata": {},
   "outputs": [],
   "source": [
    "cleaned_data.head(5);"
   ]
  },
  {
   "cell_type": "code",
   "execution_count": null,
   "id": "2c456c30",
   "metadata": {},
   "outputs": [],
   "source": []
  }
 ],
 "metadata": {
  "kernelspec": {
   "display_name": "base",
   "language": "python",
   "name": "python3"
  },
  "language_info": {
   "codemirror_mode": {
    "name": "ipython",
    "version": 3
   },
   "file_extension": ".py",
   "mimetype": "text/x-python",
   "name": "python",
   "nbconvert_exporter": "python",
   "pygments_lexer": "ipython3",
   "version": "3.12.4"
  }
 },
 "nbformat": 4,
 "nbformat_minor": 5
}
