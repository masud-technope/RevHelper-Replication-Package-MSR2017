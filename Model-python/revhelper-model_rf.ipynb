{
 "cells": [
  {
   "cell_type": "markdown",
   "id": "f7d71957",
   "metadata": {},
   "source": [
    "# Loading the Libraries"
   ]
  },
  {
   "cell_type": "code",
   "execution_count": 44,
   "id": "83bbf57d",
   "metadata": {},
   "outputs": [],
   "source": [
    "import pandas as pd\n",
    "from sklearn.model_selection import train_test_split\n",
    "from sklearn.ensemble import RandomForestClassifier\n",
    "from sklearn.metrics import accuracy_score, confusion_matrix, precision_score, recall_score, f1_score\n",
    "import matplotlib.pyplot as plt\n",
    "from sklearn.model_selection import cross_val_score"
   ]
  },
  {
   "cell_type": "code",
   "execution_count": 9,
   "id": "655d5c4d",
   "metadata": {},
   "outputs": [],
   "source": [
    "train_test_file_path=\"../evaluation/modeldata-training-and-testing.csv\""
   ]
  },
  {
   "cell_type": "code",
   "execution_count": 13,
   "id": "6bde41f3",
   "metadata": {},
   "outputs": [],
   "source": [
    "all_data = pd.read_csv(train_test_file_path, sep=\",\", header=0)"
   ]
  },
  {
   "cell_type": "code",
   "execution_count": 18,
   "id": "2f214a23",
   "metadata": {},
   "outputs": [],
   "source": [
    "all_data.head(5);"
   ]
  },
  {
   "cell_type": "markdown",
   "id": "91048ba9",
   "metadata": {},
   "source": [
    "# Preprocessing & Housekeeping"
   ]
  },
  {
   "cell_type": "code",
   "execution_count": 15,
   "id": "286b56b4",
   "metadata": {},
   "outputs": [],
   "source": [
    "def clear_na_data(data):\n",
    "    # Remove rows with NaN values\n",
    "    data = data.dropna()\n",
    "    return data"
   ]
  },
  {
   "cell_type": "code",
   "execution_count": 25,
   "id": "a5b917c8",
   "metadata": {},
   "outputs": [],
   "source": [
    "def shuffle_all_data(data):\n",
    "    # Shuffle the data\n",
    "    data = data.sample(frac=1, random_state=42).reset_index(drop=True)\n",
    "    return data"
   ]
  },
  {
   "cell_type": "code",
   "execution_count": 26,
   "id": "cb151bc0",
   "metadata": {},
   "outputs": [],
   "source": [
    "cleaned_data=clear_na_data(all_data)\n",
    "shuffled_data = shuffle_all_data(cleaned_data)"
   ]
  },
  {
   "cell_type": "code",
   "execution_count": 27,
   "id": "6ebaa1dd",
   "metadata": {},
   "outputs": [
    {
     "data": {
      "application/vnd.microsoft.datawrangler.viewer.v0+json": {
       "columns": [
        {
         "name": "index",
         "rawType": "int64",
         "type": "integer"
        },
        {
         "name": "className",
         "rawType": "object",
         "type": "string"
        },
        {
         "name": "ReadingEase",
         "rawType": "float64",
         "type": "float"
        },
        {
         "name": "ReadingEase(NL)",
         "rawType": "float64",
         "type": "float"
        },
        {
         "name": "StopwordRatio",
         "rawType": "float64",
         "type": "float"
        },
        {
         "name": "StopKeyRatio",
         "rawType": "float64",
         "type": "float"
        },
        {
         "name": "QuestionRatio",
         "rawType": "float64",
         "type": "float"
        },
        {
         "name": "CodeElementRatio",
         "rawType": "float64",
         "type": "float"
        },
        {
         "name": "ConceptualSimilarity",
         "rawType": "float64",
         "type": "float"
        },
        {
         "name": "AuthorCommitsFile",
         "rawType": "int64",
         "type": "integer"
        },
        {
         "name": "CommittedTwice",
         "rawType": "int64",
         "type": "integer"
        },
        {
         "name": "TotalAuthoredCommits",
         "rawType": "float64",
         "type": "float"
        },
        {
         "name": "ReviewingTwice",
         "rawType": "int64",
         "type": "integer"
        },
        {
         "name": "ReviewedCommitsFile",
         "rawType": "int64",
         "type": "integer"
        },
        {
         "name": "TotalReviewedCommits",
         "rawType": "int64",
         "type": "integer"
        },
        {
         "name": "ReviewedPRs",
         "rawType": "float64",
         "type": "float"
        },
        {
         "name": "ExtLibSimilarity",
         "rawType": "float64",
         "type": "float"
        }
       ],
       "conversionMethod": "pd.DataFrame",
       "ref": "8a8e5304-3e2c-4e22-bb7e-53f7f02987f6",
       "rows": [
        [
         "0",
         "nu",
         "100.0",
         "100.0",
         "0.0",
         "0.0",
         "0.0",
         "1.0",
         "0.0",
         "37",
         "1",
         "315.0",
         "1",
         "40",
         "444",
         "53.0",
         "1.0"
        ],
        [
         "1",
         "u",
         "99.49178571",
         "99.49178571",
         "0.52173913",
         "0.52173913",
         "1.0",
         "0.043478261",
         "0.271041082",
         "0",
         "0",
         "3488.0",
         "1",
         "10",
         "1800",
         "305.0",
         "0.540985288"
        ],
        [
         "2",
         "nu",
         "78.87285714",
         "100.0",
         "0.625",
         "0.625",
         "0.0",
         "0.25",
         "0.0",
         "0",
         "0",
         "889.0",
         "1",
         "2",
         "1994",
         "349.0",
         "0.235340615"
        ],
        [
         "3",
         "u",
         "80.465",
         "100.0",
         "0.347826087",
         "0.347826087",
         "0.0",
         "0.347826087",
         "0.166282199",
         "0",
         "0",
         "511.0",
         "1",
         "13",
         "143",
         "11.0",
         "0.0"
        ],
        [
         "4",
         "u",
         "100.0",
         "100.0",
         "0.0",
         "0.0",
         "0.0",
         "1.0",
         "0.0",
         "0",
         "0",
         "456.0",
         "1",
         "4",
         "916",
         "97.0",
         "0.0"
        ]
       ],
       "shape": {
        "columns": 16,
        "rows": 5
       }
      },
      "text/html": [
       "<div>\n",
       "<style scoped>\n",
       "    .dataframe tbody tr th:only-of-type {\n",
       "        vertical-align: middle;\n",
       "    }\n",
       "\n",
       "    .dataframe tbody tr th {\n",
       "        vertical-align: top;\n",
       "    }\n",
       "\n",
       "    .dataframe thead th {\n",
       "        text-align: right;\n",
       "    }\n",
       "</style>\n",
       "<table border=\"1\" class=\"dataframe\">\n",
       "  <thead>\n",
       "    <tr style=\"text-align: right;\">\n",
       "      <th></th>\n",
       "      <th>className</th>\n",
       "      <th>ReadingEase</th>\n",
       "      <th>ReadingEase(NL)</th>\n",
       "      <th>StopwordRatio</th>\n",
       "      <th>StopKeyRatio</th>\n",
       "      <th>QuestionRatio</th>\n",
       "      <th>CodeElementRatio</th>\n",
       "      <th>ConceptualSimilarity</th>\n",
       "      <th>AuthorCommitsFile</th>\n",
       "      <th>CommittedTwice</th>\n",
       "      <th>TotalAuthoredCommits</th>\n",
       "      <th>ReviewingTwice</th>\n",
       "      <th>ReviewedCommitsFile</th>\n",
       "      <th>TotalReviewedCommits</th>\n",
       "      <th>ReviewedPRs</th>\n",
       "      <th>ExtLibSimilarity</th>\n",
       "    </tr>\n",
       "  </thead>\n",
       "  <tbody>\n",
       "    <tr>\n",
       "      <th>0</th>\n",
       "      <td>nu</td>\n",
       "      <td>100.000000</td>\n",
       "      <td>100.000000</td>\n",
       "      <td>0.000000</td>\n",
       "      <td>0.000000</td>\n",
       "      <td>0.0</td>\n",
       "      <td>1.000000</td>\n",
       "      <td>0.000000</td>\n",
       "      <td>37</td>\n",
       "      <td>1</td>\n",
       "      <td>315.0</td>\n",
       "      <td>1</td>\n",
       "      <td>40</td>\n",
       "      <td>444</td>\n",
       "      <td>53.0</td>\n",
       "      <td>1.000000</td>\n",
       "    </tr>\n",
       "    <tr>\n",
       "      <th>1</th>\n",
       "      <td>u</td>\n",
       "      <td>99.491786</td>\n",
       "      <td>99.491786</td>\n",
       "      <td>0.521739</td>\n",
       "      <td>0.521739</td>\n",
       "      <td>1.0</td>\n",
       "      <td>0.043478</td>\n",
       "      <td>0.271041</td>\n",
       "      <td>0</td>\n",
       "      <td>0</td>\n",
       "      <td>3488.0</td>\n",
       "      <td>1</td>\n",
       "      <td>10</td>\n",
       "      <td>1800</td>\n",
       "      <td>305.0</td>\n",
       "      <td>0.540985</td>\n",
       "    </tr>\n",
       "    <tr>\n",
       "      <th>2</th>\n",
       "      <td>nu</td>\n",
       "      <td>78.872857</td>\n",
       "      <td>100.000000</td>\n",
       "      <td>0.625000</td>\n",
       "      <td>0.625000</td>\n",
       "      <td>0.0</td>\n",
       "      <td>0.250000</td>\n",
       "      <td>0.000000</td>\n",
       "      <td>0</td>\n",
       "      <td>0</td>\n",
       "      <td>889.0</td>\n",
       "      <td>1</td>\n",
       "      <td>2</td>\n",
       "      <td>1994</td>\n",
       "      <td>349.0</td>\n",
       "      <td>0.235341</td>\n",
       "    </tr>\n",
       "    <tr>\n",
       "      <th>3</th>\n",
       "      <td>u</td>\n",
       "      <td>80.465000</td>\n",
       "      <td>100.000000</td>\n",
       "      <td>0.347826</td>\n",
       "      <td>0.347826</td>\n",
       "      <td>0.0</td>\n",
       "      <td>0.347826</td>\n",
       "      <td>0.166282</td>\n",
       "      <td>0</td>\n",
       "      <td>0</td>\n",
       "      <td>511.0</td>\n",
       "      <td>1</td>\n",
       "      <td>13</td>\n",
       "      <td>143</td>\n",
       "      <td>11.0</td>\n",
       "      <td>0.000000</td>\n",
       "    </tr>\n",
       "    <tr>\n",
       "      <th>4</th>\n",
       "      <td>u</td>\n",
       "      <td>100.000000</td>\n",
       "      <td>100.000000</td>\n",
       "      <td>0.000000</td>\n",
       "      <td>0.000000</td>\n",
       "      <td>0.0</td>\n",
       "      <td>1.000000</td>\n",
       "      <td>0.000000</td>\n",
       "      <td>0</td>\n",
       "      <td>0</td>\n",
       "      <td>456.0</td>\n",
       "      <td>1</td>\n",
       "      <td>4</td>\n",
       "      <td>916</td>\n",
       "      <td>97.0</td>\n",
       "      <td>0.000000</td>\n",
       "    </tr>\n",
       "  </tbody>\n",
       "</table>\n",
       "</div>"
      ],
      "text/plain": [
       "  className  ReadingEase  ReadingEase(NL)  StopwordRatio  StopKeyRatio  \\\n",
       "0        nu   100.000000       100.000000       0.000000      0.000000   \n",
       "1         u    99.491786        99.491786       0.521739      0.521739   \n",
       "2        nu    78.872857       100.000000       0.625000      0.625000   \n",
       "3         u    80.465000       100.000000       0.347826      0.347826   \n",
       "4         u   100.000000       100.000000       0.000000      0.000000   \n",
       "\n",
       "   QuestionRatio  CodeElementRatio  ConceptualSimilarity  AuthorCommitsFile  \\\n",
       "0            0.0          1.000000              0.000000                 37   \n",
       "1            1.0          0.043478              0.271041                  0   \n",
       "2            0.0          0.250000              0.000000                  0   \n",
       "3            0.0          0.347826              0.166282                  0   \n",
       "4            0.0          1.000000              0.000000                  0   \n",
       "\n",
       "   CommittedTwice  TotalAuthoredCommits  ReviewingTwice  ReviewedCommitsFile  \\\n",
       "0               1                 315.0               1                   40   \n",
       "1               0                3488.0               1                   10   \n",
       "2               0                 889.0               1                    2   \n",
       "3               0                 511.0               1                   13   \n",
       "4               0                 456.0               1                    4   \n",
       "\n",
       "   TotalReviewedCommits  ReviewedPRs  ExtLibSimilarity  \n",
       "0                   444         53.0          1.000000  \n",
       "1                  1800        305.0          0.540985  \n",
       "2                  1994        349.0          0.235341  \n",
       "3                   143         11.0          0.000000  \n",
       "4                   916         97.0          0.000000  "
      ]
     },
     "execution_count": 27,
     "metadata": {},
     "output_type": "execute_result"
    }
   ],
   "source": [
    "shuffled_data.head(5)"
   ]
  },
  {
   "cell_type": "markdown",
   "id": "de7bbb01",
   "metadata": {},
   "source": [
    "# Data Preperation"
   ]
  },
  {
   "cell_type": "code",
   "execution_count": 28,
   "id": "93ebc064",
   "metadata": {},
   "outputs": [],
   "source": [
    "X_train, X_test, y_train, y_test = train_test_split(shuffled_data.drop(columns=['className']), shuffled_data['className'], test_size=0.2, random_state=42)"
   ]
  },
  {
   "cell_type": "code",
   "execution_count": 30,
   "id": "b321ebcb",
   "metadata": {},
   "outputs": [
    {
     "data": {
      "text/plain": [
       "(868, 15)"
      ]
     },
     "execution_count": 30,
     "metadata": {},
     "output_type": "execute_result"
    }
   ],
   "source": [
    "X_train.shape"
   ]
  },
  {
   "cell_type": "markdown",
   "id": "fa405a3f",
   "metadata": {},
   "source": [
    "# Model using Textual Features"
   ]
  },
  {
   "cell_type": "code",
   "execution_count": 32,
   "id": "bd419bd6",
   "metadata": {},
   "outputs": [],
   "source": [
    "def get_textual_features_only(data_frame):\n",
    "    # Select only the textual features\n",
    "    textual_features = data_frame[['ReadingEase', 'ReadingEase(NL)', 'StopwordRatio', 'QuestionRatio', 'CodeElementRatio', 'ConceptualSimilarity']]\n",
    "    return textual_features"
   ]
  },
  {
   "cell_type": "code",
   "execution_count": 33,
   "id": "32816b3c",
   "metadata": {},
   "outputs": [],
   "source": [
    "X_train_textual = get_textual_features_only(X_train)\n",
    "X_test_textual = get_textual_features_only(X_test)"
   ]
  },
  {
   "cell_type": "code",
   "execution_count": 36,
   "id": "b9d6308d",
   "metadata": {},
   "outputs": [],
   "source": [
    "def get_textual_only_model():\n",
    "    model_rf_textual = RandomForestClassifier(n_estimators=2000,   random_state=42)\n",
    "    model_rf_textual.fit(X_train_textual, y_train)\n",
    "    return model_rf_textual "
   ]
  },
  {
   "cell_type": "code",
   "execution_count": 42,
   "id": "8f95c6cf",
   "metadata": {},
   "outputs": [],
   "source": [
    "def evaluate_rf_model(trained_model, X_test, y_test):\n",
    "    trained_model_predictions = trained_model.predict(X_test)\n",
    "    accuracy = accuracy_score(y_test, trained_model_predictions) \n",
    "    precision = precision_score(y_test, trained_model_predictions, average='weighted')\n",
    "    recall = recall_score(y_test, trained_model_predictions, average='weighted')\n",
    "    f1 = f1_score(y_test, trained_model_predictions, average='weighted')\n",
    "    return accuracy, precision, recall, f1"
   ]
  },
  {
   "cell_type": "code",
   "execution_count": 37,
   "id": "85708af8",
   "metadata": {},
   "outputs": [],
   "source": [
    "model_rf_textual = get_textual_only_model()"
   ]
  },
  {
   "cell_type": "code",
   "execution_count": 43,
   "id": "f80f2c10",
   "metadata": {},
   "outputs": [
    {
     "data": {
      "text/plain": [
       "(0.5391705069124424,\n",
       " 0.5309599473144487,\n",
       " 0.5391705069124424,\n",
       " 0.5321623130299438)"
      ]
     },
     "execution_count": 43,
     "metadata": {},
     "output_type": "execute_result"
    }
   ],
   "source": [
    "evaluate_rf_model(model_rf_textual, X_test_textual, y_test)"
   ]
  },
  {
   "cell_type": "code",
   "execution_count": 45,
   "id": "6a670ed8",
   "metadata": {},
   "outputs": [],
   "source": [
    "def get_cross_validation_score(model_rf_textual_cv, X_train_textual, y_train):\n",
    "    # Perform cross-validation\n",
    "    cv_scores = cross_val_score(model_rf_textual_cv, X_train_textual, y_train, cv=10)\n",
    "    return cv_scores.mean(), cv_scores.std()"
   ]
  },
  {
   "cell_type": "code",
   "execution_count": 46,
   "id": "44c6b0e3",
   "metadata": {},
   "outputs": [],
   "source": [
    "model_rf_textual_cv = RandomForestClassifier(n_estimators=2000, random_state=42)"
   ]
  },
  {
   "cell_type": "code",
   "execution_count": 47,
   "id": "7aa269cf",
   "metadata": {},
   "outputs": [
    {
     "data": {
      "text/plain": [
       "(0.5725608126169474, 0.052481677777014124)"
      ]
     },
     "execution_count": 47,
     "metadata": {},
     "output_type": "execute_result"
    }
   ],
   "source": [
    "get_cross_validation_score(model_rf_textual_cv, X_train_textual, y_train)"
   ]
  },
  {
   "cell_type": "markdown",
   "id": "0ae4e30b",
   "metadata": {},
   "source": [
    "# Model using Developer Experience"
   ]
  },
  {
   "cell_type": "code",
   "execution_count": 48,
   "id": "f8635d82",
   "metadata": {},
   "outputs": [],
   "source": [
    "def get_developer_exp_features_only(data_frame):\n",
    "    # Select only the developer experience features\n",
    "    dev_exp_features = data_frame[['AuthorCommitsFile', 'CommittedTwice', 'TotalAuthoredCommits', 'ReviewingTwice', 'ReviewedCommitsFile', 'TotalReviewedCommits', 'ReviewedPRs','ExtLibSimilarity']]\n",
    "    return dev_exp_features"
   ]
  },
  {
   "cell_type": "code",
   "execution_count": 53,
   "id": "324c8032",
   "metadata": {},
   "outputs": [],
   "source": [
    "X_train_dev_exp_features=get_developer_exp_features_only(X_train)\n",
    "X_test_dev_exp_features=get_developer_exp_features_only(X_test)"
   ]
  },
  {
   "cell_type": "code",
   "execution_count": 54,
   "id": "b54d3a3a",
   "metadata": {},
   "outputs": [
    {
     "data": {
      "application/vnd.microsoft.datawrangler.viewer.v0+json": {
       "columns": [
        {
         "name": "index",
         "rawType": "int64",
         "type": "integer"
        },
        {
         "name": "AuthorCommitsFile",
         "rawType": "int64",
         "type": "integer"
        },
        {
         "name": "CommittedTwice",
         "rawType": "int64",
         "type": "integer"
        },
        {
         "name": "TotalAuthoredCommits",
         "rawType": "float64",
         "type": "float"
        },
        {
         "name": "ReviewingTwice",
         "rawType": "int64",
         "type": "integer"
        },
        {
         "name": "ReviewedCommitsFile",
         "rawType": "int64",
         "type": "integer"
        },
        {
         "name": "TotalReviewedCommits",
         "rawType": "int64",
         "type": "integer"
        },
        {
         "name": "ReviewedPRs",
         "rawType": "float64",
         "type": "float"
        },
        {
         "name": "ExtLibSimilarity",
         "rawType": "float64",
         "type": "float"
        }
       ],
       "conversionMethod": "pd.DataFrame",
       "ref": "cf5feeb8-7922-4cc1-9a66-d54719fb2bc9",
       "rows": [
        [
         "522",
         "0",
         "0",
         "695.0",
         "1",
         "4",
         "287",
         "50.0",
         "0.0"
        ],
        [
         "851",
         "1",
         "1",
         "44.0",
         "1",
         "4",
         "80",
         "20.0",
         "0.735574893"
        ],
        [
         "215",
         "10",
         "1",
         "824.0",
         "1",
         "16",
         "1563",
         "267.0",
         "0.0"
        ],
        [
         "628",
         "0",
         "0",
         "107.0",
         "1",
         "9",
         "209",
         "50.0",
         "0.0"
        ],
        [
         "593",
         "8",
         "1",
         "824.0",
         "1",
         "29",
         "1578",
         "268.0",
         "0.655402138"
        ]
       ],
       "shape": {
        "columns": 8,
        "rows": 5
       }
      },
      "text/html": [
       "<div>\n",
       "<style scoped>\n",
       "    .dataframe tbody tr th:only-of-type {\n",
       "        vertical-align: middle;\n",
       "    }\n",
       "\n",
       "    .dataframe tbody tr th {\n",
       "        vertical-align: top;\n",
       "    }\n",
       "\n",
       "    .dataframe thead th {\n",
       "        text-align: right;\n",
       "    }\n",
       "</style>\n",
       "<table border=\"1\" class=\"dataframe\">\n",
       "  <thead>\n",
       "    <tr style=\"text-align: right;\">\n",
       "      <th></th>\n",
       "      <th>AuthorCommitsFile</th>\n",
       "      <th>CommittedTwice</th>\n",
       "      <th>TotalAuthoredCommits</th>\n",
       "      <th>ReviewingTwice</th>\n",
       "      <th>ReviewedCommitsFile</th>\n",
       "      <th>TotalReviewedCommits</th>\n",
       "      <th>ReviewedPRs</th>\n",
       "      <th>ExtLibSimilarity</th>\n",
       "    </tr>\n",
       "  </thead>\n",
       "  <tbody>\n",
       "    <tr>\n",
       "      <th>522</th>\n",
       "      <td>0</td>\n",
       "      <td>0</td>\n",
       "      <td>695.0</td>\n",
       "      <td>1</td>\n",
       "      <td>4</td>\n",
       "      <td>287</td>\n",
       "      <td>50.0</td>\n",
       "      <td>0.000000</td>\n",
       "    </tr>\n",
       "    <tr>\n",
       "      <th>851</th>\n",
       "      <td>1</td>\n",
       "      <td>1</td>\n",
       "      <td>44.0</td>\n",
       "      <td>1</td>\n",
       "      <td>4</td>\n",
       "      <td>80</td>\n",
       "      <td>20.0</td>\n",
       "      <td>0.735575</td>\n",
       "    </tr>\n",
       "    <tr>\n",
       "      <th>215</th>\n",
       "      <td>10</td>\n",
       "      <td>1</td>\n",
       "      <td>824.0</td>\n",
       "      <td>1</td>\n",
       "      <td>16</td>\n",
       "      <td>1563</td>\n",
       "      <td>267.0</td>\n",
       "      <td>0.000000</td>\n",
       "    </tr>\n",
       "    <tr>\n",
       "      <th>628</th>\n",
       "      <td>0</td>\n",
       "      <td>0</td>\n",
       "      <td>107.0</td>\n",
       "      <td>1</td>\n",
       "      <td>9</td>\n",
       "      <td>209</td>\n",
       "      <td>50.0</td>\n",
       "      <td>0.000000</td>\n",
       "    </tr>\n",
       "    <tr>\n",
       "      <th>593</th>\n",
       "      <td>8</td>\n",
       "      <td>1</td>\n",
       "      <td>824.0</td>\n",
       "      <td>1</td>\n",
       "      <td>29</td>\n",
       "      <td>1578</td>\n",
       "      <td>268.0</td>\n",
       "      <td>0.655402</td>\n",
       "    </tr>\n",
       "  </tbody>\n",
       "</table>\n",
       "</div>"
      ],
      "text/plain": [
       "     AuthorCommitsFile  CommittedTwice  TotalAuthoredCommits  ReviewingTwice  \\\n",
       "522                  0               0                 695.0               1   \n",
       "851                  1               1                  44.0               1   \n",
       "215                 10               1                 824.0               1   \n",
       "628                  0               0                 107.0               1   \n",
       "593                  8               1                 824.0               1   \n",
       "\n",
       "     ReviewedCommitsFile  TotalReviewedCommits  ReviewedPRs  ExtLibSimilarity  \n",
       "522                    4                   287         50.0          0.000000  \n",
       "851                    4                    80         20.0          0.735575  \n",
       "215                   16                  1563        267.0          0.000000  \n",
       "628                    9                   209         50.0          0.000000  \n",
       "593                   29                  1578        268.0          0.655402  "
      ]
     },
     "execution_count": 54,
     "metadata": {},
     "output_type": "execute_result"
    }
   ],
   "source": [
    "X_train_dev_exp_features.head(5)"
   ]
  },
  {
   "cell_type": "code",
   "execution_count": 55,
   "id": "27823624",
   "metadata": {},
   "outputs": [],
   "source": [
    "def get_developer_exp_only_model():\n",
    "    model_rf_dev_exp = RandomForestClassifier(n_estimators=2000, random_state=42)\n",
    "    model_rf_dev_exp.fit(X_train_dev_exp_features, y_train)\n",
    "    return model_rf_dev_exp"
   ]
  },
  {
   "cell_type": "code",
   "execution_count": 56,
   "id": "8d4b549c",
   "metadata": {},
   "outputs": [],
   "source": [
    "model_rf_dev_exp = get_developer_exp_only_model()"
   ]
  },
  {
   "cell_type": "code",
   "execution_count": 57,
   "id": "789af6e5",
   "metadata": {},
   "outputs": [
    {
     "data": {
      "text/plain": [
       "(0.6866359447004609,\n",
       " 0.6849976376016155,\n",
       " 0.6866359447004609,\n",
       " 0.6852871168102586)"
      ]
     },
     "execution_count": 57,
     "metadata": {},
     "output_type": "execute_result"
    }
   ],
   "source": [
    "evaluate_rf_model(model_rf_dev_exp, X_test_dev_exp_features, y_test)"
   ]
  },
  {
   "cell_type": "code",
   "execution_count": 58,
   "id": "919d0910",
   "metadata": {},
   "outputs": [],
   "source": [
    "model_rf_dev_exp_cv = RandomForestClassifier(n_estimators=2000, random_state=42)"
   ]
  },
  {
   "cell_type": "code",
   "execution_count": 59,
   "id": "01bd2f40",
   "metadata": {},
   "outputs": [
    {
     "data": {
      "text/plain": [
       "(0.6440924886394012, 0.04729264840845876)"
      ]
     },
     "execution_count": 59,
     "metadata": {},
     "output_type": "execute_result"
    }
   ],
   "source": [
    "get_cross_validation_score(model_rf_dev_exp_cv, X_train_dev_exp_features, y_train)"
   ]
  },
  {
   "cell_type": "markdown",
   "id": "284d561f",
   "metadata": {},
   "source": [
    "# Model using Textual and Developer Experience"
   ]
  },
  {
   "cell_type": "code",
   "execution_count": 62,
   "id": "dae4666e",
   "metadata": {},
   "outputs": [],
   "source": [
    "def get_combined_features(data_frame):\n",
    "    # Select both textual and developer experience features\n",
    "    combined_features = data_frame[['ConceptualSimilarity', 'ReviewedCommitsFile', 'AuthorCommitsFile', 'ExtLibSimilarity','TotalReviewedCommits', 'ReviewedPRs','StopwordRatio']]\n",
    "    return combined_features    "
   ]
  },
  {
   "cell_type": "code",
   "execution_count": 64,
   "id": "d878e769",
   "metadata": {},
   "outputs": [],
   "source": [
    "X_train_combined_features=get_combined_features(X_train)\n",
    "X_test_combined_features=get_combined_features(X_test)"
   ]
  },
  {
   "cell_type": "code",
   "execution_count": 65,
   "id": "0a6ef7c4",
   "metadata": {},
   "outputs": [],
   "source": [
    "def get_combined_features_model():\n",
    "    model_rf_combined = RandomForestClassifier(n_estimators=2000, random_state=42)\n",
    "    model_rf_combined.fit(X_train_combined_features, y_train)\n",
    "    return model_rf_combined"
   ]
  },
  {
   "cell_type": "code",
   "execution_count": 66,
   "id": "81d40c49",
   "metadata": {},
   "outputs": [],
   "source": [
    "model_rf_combined=get_combined_features_model()"
   ]
  },
  {
   "cell_type": "code",
   "execution_count": 67,
   "id": "0dd2dc65",
   "metadata": {},
   "outputs": [
    {
     "data": {
      "text/plain": [
       "(0.6866359447004609,\n",
       " 0.6846997274138543,\n",
       " 0.6866359447004609,\n",
       " 0.6847228552297676)"
      ]
     },
     "execution_count": 67,
     "metadata": {},
     "output_type": "execute_result"
    }
   ],
   "source": [
    "evaluate_rf_model(model_rf_combined, X_test_combined_features, y_test)"
   ]
  },
  {
   "cell_type": "code",
   "execution_count": 68,
   "id": "5a2bd055",
   "metadata": {},
   "outputs": [],
   "source": [
    "model_rf_combined_cv=RandomForestClassifier(n_estimators=2000, random_state=42)"
   ]
  },
  {
   "cell_type": "code",
   "execution_count": 69,
   "id": "cf3707f0",
   "metadata": {},
   "outputs": [
    {
     "data": {
      "text/plain": [
       "(0.6533680834001604, 0.04635764198315911)"
      ]
     },
     "execution_count": 69,
     "metadata": {},
     "output_type": "execute_result"
    }
   ],
   "source": [
    "get_cross_validation_score(model_rf_combined_cv, X_train_combined_features, y_train)"
   ]
  },
  {
   "cell_type": "markdown",
   "id": "0cd0c82a",
   "metadata": {},
   "source": [
    "# Model Importance Visualization"
   ]
  },
  {
   "cell_type": "code",
   "execution_count": 81,
   "id": "b8fdb476",
   "metadata": {},
   "outputs": [],
   "source": [
    "def show_model_feature_importances(model, feature_names):\n",
    "    # Get feature importances\n",
    "    importances = model.feature_importances_\n",
    "    indices = importances.argsort()[::-1]\n",
    "\n",
    "    # Print the feature ranking\n",
    "    print(\"Feature ranking:\")\n",
    "    for f in range(len(feature_names)):\n",
    "        print(f\"{f + 1}. {feature_names[indices[f]]} ({importances[indices[f]]})\")\n",
    "\n",
    "    # Plot the feature importances of the forest\n",
    "    plt.figure(figsize=(5, 4))\n",
    "    plt.title(\"Feature importances\")\n",
    "    plt.bar(range(len(feature_names)), importances[indices], align=\"center\")\n",
    "    plt.xticks(range(len(feature_names)), [feature_names[i] for i in indices], rotation=90)\n",
    "    plt.xlim([-1, len(feature_names)])\n",
    "    plt.show()"
   ]
  },
  {
   "cell_type": "code",
   "execution_count": 85,
   "id": "95c66c51",
   "metadata": {},
   "outputs": [
    {
     "name": "stdout",
     "output_type": "stream",
     "text": [
      "Feature ranking:\n",
      "1. ConceptualSimilarity (0.19745734550118157)\n",
      "2. StopwordRatio (0.17127137214137714)\n",
      "3. TotalReviewedCommits (0.16542950735880918)\n",
      "4. ReviewedPRs (0.1580448760647083)\n",
      "5. ReviewedCommitsFile (0.14118603945461472)\n",
      "6. ExtLibSimilarity (0.09075721831059509)\n",
      "7. AuthorCommitsFile (0.07585364116871399)\n"
     ]
    },
    {
     "data": {
      "image/png": "[encoded data removed]",
      "text/plain": [
       "<Figure size 500x400 with 1 Axes>"
      ]
     },
     "metadata": {},
     "output_type": "display_data"
    }
   ],
   "source": [
    "show_model_feature_importances(model_rf_combined, X_train_combined_features.columns)"
   ]
  },
  {
   "cell_type": "code",
   "execution_count": 86,
   "id": "3cfd93a0",
   "metadata": {},
   "outputs": [
    {
     "name": "stdout",
     "output_type": "stream",
     "text": [
      "Feature ranking:\n",
      "1. ConceptualSimilarity (0.23727423268600245)\n",
      "2. CodeElementRatio (0.2109699185507835)\n",
      "3. StopwordRatio (0.20034073335354197)\n",
      "4. ReadingEase (0.16543299967420247)\n",
      "5. ReadingEase(NL) (0.13877303829539891)\n",
      "6. QuestionRatio (0.047209077440070656)\n"
     ]
    },
    {
     "data": {
      "image/png": "[encoded data removed]",
      "text/plain": [
       "<Figure size 500x400 with 1 Axes>"
      ]
     },
     "metadata": {},
     "output_type": "display_data"
    }
   ],
   "source": [
    "show_model_feature_importances(model_rf_textual, X_train_textual.columns)"
   ]
  },
  {
   "cell_type": "code",
   "execution_count": 87,
   "id": "71cf0c9c",
   "metadata": {},
   "outputs": [
    {
     "name": "stdout",
     "output_type": "stream",
     "text": [
      "Feature ranking:\n",
      "1. TotalReviewedCommits (0.21478076248303846)\n",
      "2. ReviewedPRs (0.20549186050852877)\n",
      "3. ReviewedCommitsFile (0.18352466707751738)\n",
      "4. TotalAuthoredCommits (0.15834164735589562)\n",
      "5. ExtLibSimilarity (0.12195684234287175)\n",
      "6. AuthorCommitsFile (0.08809327568331791)\n",
      "7. CommittedTwice (0.016556639229908094)\n",
      "8. ReviewingTwice (0.011254305318922037)\n"
     ]
    },
    {
     "data": {
      "image/png": "[encoded data removed]",
      "text/plain": [
       "<Figure size 500x400 with 1 Axes>"
      ]
     },
     "metadata": {},
     "output_type": "display_data"
    }
   ],
   "source": [
    "show_model_feature_importances(model_rf_dev_exp, X_train_dev_exp_features.columns)"
   ]
  },
  {
   "cell_type": "markdown",
   "id": "6393fb7a",
   "metadata": {},
   "source": [
    "# Confusion Matrix"
   ]
  },
  {
   "cell_type": "code",
   "execution_count": 90,
   "id": "962949aa",
   "metadata": {},
   "outputs": [
    {
     "data": {
      "text/plain": [
       "array([[57, 38],\n",
       "       [30, 92]], dtype=int64)"
      ]
     },
     "execution_count": 90,
     "metadata": {},
     "output_type": "execute_result"
    }
   ],
   "source": [
    "confusion_matrix(y_test, model_rf_combined.predict(X_test_combined_features))"
   ]
  },
  {
   "cell_type": "code",
   "execution_count": 91,
   "id": "b8e0ea6a",
   "metadata": {},
   "outputs": [
    {
     "data": {
      "text/plain": [
       "array([[37, 58],\n",
       "       [42, 80]], dtype=int64)"
      ]
     },
     "execution_count": 91,
     "metadata": {},
     "output_type": "execute_result"
    }
   ],
   "source": [
    "confusion_matrix(y_test, model_rf_textual.predict(X_test_textual))"
   ]
  },
  {
   "cell_type": "code",
   "execution_count": 92,
   "id": "b460b51b",
   "metadata": {},
   "outputs": [
    {
     "data": {
      "text/plain": [
       "array([[58, 37],\n",
       "       [31, 91]], dtype=int64)"
      ]
     },
     "execution_count": 92,
     "metadata": {},
     "output_type": "execute_result"
    }
   ],
   "source": [
    "confusion_matrix(y_test, model_rf_dev_exp.predict(X_test_dev_exp_features))"
   ]
  }
 ],
 "metadata": {
  "kernelspec": {
   "display_name": "base",
   "language": "python",
   "name": "python3"
  },
  "language_info": {
   "codemirror_mode": {
    "name": "ipython",
    "version": 3
   },
   "file_extension": ".py",
   "mimetype": "text/x-python",
   "name": "python",
   "nbconvert_exporter": "python",
   "pygments_lexer": "ipython3",
   "version": "3.12.4"
  }
 },
 "nbformat": 4,
 "nbformat_minor": 5
}
